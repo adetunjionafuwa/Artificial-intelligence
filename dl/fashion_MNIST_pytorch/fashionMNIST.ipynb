{
 "cells": [
  {
   "cell_type": "code",
   "execution_count": 1,
   "metadata": {},
   "outputs": [],
   "source": [
    "import torch\n",
    "from torchvision import datasets, transforms"
   ]
  },
  {
   "cell_type": "code",
   "execution_count": 2,
   "metadata": {},
   "outputs": [],
   "source": [
    "transform = transforms.Compose([\n",
    "    transforms.ToTensor(),\n",
    "    transforms.Normalize((0.5, ), (0.5, ))\n",
    "])"
   ]
  },
  {
   "cell_type": "code",
   "execution_count": 3,
   "metadata": {},
   "outputs": [],
   "source": [
    "train = datasets.FashionMNIST('~/pytorch/F_MNIST_data', \n",
    "                              train = True, \n",
    "                              download = True, \n",
    "                              transform=transform)\n",
    "\n",
    "test = datasets.FashionMNIST('~/pytorch/F_MNIST_data',\n",
    "                            train = False,\n",
    "                            download = True,\n",
    "                            transform = transform)"
   ]
  },
  {
   "cell_type": "code",
   "execution_count": 4,
   "metadata": {},
   "outputs": [],
   "source": [
    "trainset = torch.utils.data.DataLoader(train, batch_size = 64, shuffle = True)\n",
    "testset = torch.utils.data.DataLoader(test, batch_size = 64, shuffle = True)"
   ]
  },
  {
   "cell_type": "code",
   "execution_count": 5,
   "metadata": {},
   "outputs": [],
   "source": [
    "from torch import optim, nn\n",
    "from torch.autograd import Variable\n",
    "import matplotlib.pyplot as plt\n",
    "import numpy as np"
   ]
  },
  {
   "cell_type": "code",
   "execution_count": 6,
   "metadata": {},
   "outputs": [],
   "source": [
    "import torch.nn.functional as F"
   ]
  },
  {
   "cell_type": "code",
   "execution_count": 7,
   "metadata": {},
   "outputs": [],
   "source": [
    "class Model(nn.Module):\n",
    "    def __init__(self):\n",
    "        super().__init__()\n",
    "        self.hidden1 = nn.Linear(784, 256)\n",
    "        self.hidden2 = nn.Linear(256, 128)\n",
    "        self.hidden3 = nn.Linear(128, 64)\n",
    "        self.output = nn.Linear(64, 10)\n",
    "        \n",
    "    def forward(self, x):\n",
    "        x = x.view(x.shape[0], -1)\n",
    "        \n",
    "        x = F.relu(self.hidden1(x))\n",
    "        x = F.relu(self.hidden2(x))\n",
    "        x = F.relu(self.hidden3(x))\n",
    "        x = F.log_softmax(self.output(x), dim = 1)\n",
    "        \n",
    "        return x"
   ]
  },
  {
   "cell_type": "code",
   "execution_count": 8,
   "metadata": {},
   "outputs": [],
   "source": [
    "model = Model()"
   ]
  },
  {
   "cell_type": "code",
   "execution_count": 9,
   "metadata": {},
   "outputs": [],
   "source": [
    "criterion = nn.NLLLoss()\n",
    "optimizer = optim.Adam(model.parameters(), lr = 0.003)"
   ]
  },
  {
   "cell_type": "code",
   "execution_count": 10,
   "metadata": {},
   "outputs": [
    {
     "name": "stdout",
     "output_type": "stream",
     "text": [
      "Training loss: 0.5150365045329909 \n",
      "Training loss: 0.3899355641623804 \n",
      "Training loss: 0.3539149039732749 \n",
      "Training loss: 0.3305769878139755 \n",
      "Training loss: 0.31320831656996123 \n",
      "Training loss: 0.30431586213266926 \n",
      "Training loss: 0.2894316797952916 \n",
      "Training loss: 0.2816225949889307 \n",
      "Training loss: 0.2747618791375206 \n",
      "Training loss: 0.2678845302700234 \n"
     ]
    }
   ],
   "source": [
    "epochs = 10\n",
    "\n",
    "for epoch in range(epochs):\n",
    "    train_loss = 0\n",
    "    for images, labels in trainset:\n",
    "        logits = model.forward(images)\n",
    "        loss = criterion(logits, labels)\n",
    "        \n",
    "        optimizer.zero_grad()\n",
    "        loss.backward()\n",
    "        optimizer.step()\n",
    "        \n",
    "        train_loss += loss.item()\n",
    "    print(f'Training loss: {train_loss/ len(trainset)} ')"
   ]
  },
  {
   "cell_type": "code",
   "execution_count": 11,
   "metadata": {},
   "outputs": [],
   "source": [
    "import os,sys,inspect\n",
    "current_dir = os.path.dirname(os.path.abspath(inspect.getfile(inspect.currentframe())))\n",
    "parent_dir = os.path.dirname(current_dir)\n",
    "sys.path.insert(0, parent_dir) \n",
    "import helper"
   ]
  },
  {
   "cell_type": "code",
   "execution_count": 12,
   "metadata": {},
   "outputs": [
    {
     "data": {
      "image/png": "[encoded data removed]",
      "text/plain": [
       "<Figure size 432x648 with 2 Axes>"
      ]
     },
     "metadata": {
      "needs_background": "light"
     },
     "output_type": "display_data"
    }
   ],
   "source": [
    "images, labels = next(iter(testset))\n",
    "\n",
    "img = images[1]\n",
    "\n",
    "ps = torch.exp(model(img))\n",
    "helper.view_classify(img, ps, version = 'Fashion')"
   ]
  },
  {
   "cell_type": "markdown",
   "metadata": {},
   "source": [
    "### Classifier with DROPOUT and ACCURACY"
   ]
  },
  {
   "cell_type": "code",
   "execution_count": 13,
   "metadata": {},
   "outputs": [],
   "source": [
    "class Classifier(nn.Module):\n",
    "    def __init__(self):\n",
    "        super().__init__()\n",
    "        \n",
    "        self.h1 = nn.Linear(784, 256)\n",
    "        self.h2 = nn.Linear(256, 128)\n",
    "        self.h3 = nn.Linear(128, 64)\n",
    "        self.output = nn.Linear(64, 10)\n",
    "        \n",
    "        self.dropout = nn.Dropout()\n",
    "        \n",
    "    def forward(self, x):\n",
    "        x = x.view(x.shape[0], -1)\n",
    "        \n",
    "        x = self.dropout(F.relu(self.h1(x)))\n",
    "        x = self.dropout(F.relu(self.h2(x)))\n",
    "        x = self.dropout(F.relu(self.h3(x)))\n",
    "        x = F.log_softmax(self.output(x), dim = 1)\n",
    "        \n",
    "        return x"
   ]
  },
  {
   "cell_type": "code",
   "execution_count": 14,
   "metadata": {},
   "outputs": [],
   "source": [
    "clf = Classifier()\n",
    "optimizer = optim.Adam(clf.parameters(), lr = 0.003)\n",
    "criterion = nn.NLLLoss()"
   ]
  },
  {
   "cell_type": "code",
   "execution_count": null,
   "metadata": {},
   "outputs": [
    {
     "name": "stdout",
     "output_type": "stream",
     "text": [
      "Epochs 1/30.. Training loss: 0.676.. Training acc: 0.767.. Test loss: 0.503.. Test acc: 0.815386..\n",
      "Epochs 2/30.. Training loss: 0.652.. Training acc: 0.775.. Test loss: 0.502.. Test acc: 0.823945..\n",
      "Epochs 3/30.. Training loss: 0.655.. Training acc: 0.777.. Test loss: 0.490.. Test acc: 0.822552..\n",
      "Epochs 4/30.. Training loss: 0.630.. Training acc: 0.785.. Test loss: 0.482.. Test acc: 0.831907..\n"
     ]
    }
   ],
   "source": [
    "epochs = 30\n",
    "training_loss, test_loss = [], []\n",
    "\n",
    "for epoch in range(epochs):\n",
    "    r_loss, r_accuracy = 0, 0\n",
    "    for images, labels in trainset:\n",
    "        output = clf.forward(images)\n",
    "        loss = criterion(output, labels)\n",
    "        \n",
    "        optimizer.zero_grad()\n",
    "        loss.backward()\n",
    "        optimizer.step()\n",
    "        \n",
    "        r_loss += loss.item()\n",
    "        \n",
    "        ps = torch.exp(output)\n",
    "        r_top_p, r_top_class = ps.topk(1, dim = 1)\n",
    "        r_equals = r_top_class == labels.view(*r_top_class.shape)\n",
    "        r_accuracy += torch.mean(r_equals.type(torch.FloatTensor))\n",
    "        \n",
    "    t_loss, t_accuracy = 0, 0   \n",
    "    with torch.no_grad():\n",
    "        clf.eval()\n",
    "        for images, labels in testset:\n",
    "            log_ps = clf.forward(images)\n",
    "            t_loss += criterion(log_ps, labels)\n",
    "            \n",
    "            ps = torch.exp(log_ps)\n",
    "            t_top_p, t_top_class = ps.topk(1, dim = 1)\n",
    "            t_equals = t_top_class == labels.view(*t_top_class.shape)\n",
    "            t_accuracy += torch.mean(t_equals.type(torch.FloatTensor))\n",
    "            \n",
    "    clf.train()\n",
    "    training_loss.append(r_loss)\n",
    "    test_loss.append(t_loss)\n",
    "    \n",
    "    print('Epochs {}/{}..'.format(epoch+1, epochs),\n",
    "         'Training loss: {:.3f}..'.format(r_loss/len(trainset)),\n",
    "          'Training acc: {:.3f}..'.format(r_accuracy/len(trainset)),\n",
    "         'Test loss: {:.3f}..'.format(t_loss/len(testset)),\n",
    "         'Test acc: {:3f}..'.format(t_accuracy/len(testset)))"
   ]
  },
  {
   "cell_type": "code",
   "execution_count": null,
   "metadata": {},
   "outputs": [],
   "source": []
  }
 ],
 "metadata": {
  "kernelspec": {
   "display_name": "Python 3",
   "language": "python",
   "name": "python3"
  },
  "language_info": {
   "codemirror_mode": {
    "name": "ipython",
    "version": 3
   },
   "file_extension": ".py",
   "mimetype": "text/x-python",
   "name": "python",
   "nbconvert_exporter": "python",
   "pygments_lexer": "ipython3",
   "version": "3.7.3"
  }
 },
 "nbformat": 4,
 "nbformat_minor": 4
}
