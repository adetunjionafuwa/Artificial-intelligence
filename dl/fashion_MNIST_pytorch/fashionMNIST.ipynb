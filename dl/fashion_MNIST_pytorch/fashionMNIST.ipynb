{
 "cells": [
  {
   "cell_type": "code",
   "execution_count": 1,
   "metadata": {},
   "outputs": [],
   "source": [
    "import torch\n",
    "from torchvision import datasets, transforms"
   ]
  },
  {
   "cell_type": "code",
   "execution_count": 5,
   "metadata": {},
   "outputs": [],
   "source": [
    "from torch import optim, nn\n",
    "from torch.autograd import Variable\n",
    "import matplotlib.pyplot as plt\n",
    "import numpy as np"
   ]
  },
  {
   "cell_type": "code",
   "execution_count": 18,
   "metadata": {},
   "outputs": [],
   "source": [
    "import matplotlib.pyplot as plt\n",
    "%matplotlib inline"
   ]
  },
  {
   "cell_type": "code",
   "execution_count": 2,
   "metadata": {},
   "outputs": [],
   "source": [
    "transform = transforms.Compose([\n",
    "    transforms.ToTensor(),\n",
    "    transforms.Normalize((0.5, ), (0.5, ))\n",
    "])"
   ]
  },
  {
   "cell_type": "code",
   "execution_count": 3,
   "metadata": {},
   "outputs": [],
   "source": [
    "train = datasets.FashionMNIST('~/pytorch/F_MNIST_data', \n",
    "                              train = True, \n",
    "                              download = True, \n",
    "                              transform=transform)\n",
    "\n",
    "test = datasets.FashionMNIST('~/pytorch/F_MNIST_data',\n",
    "                            train = False,\n",
    "                            download = True,\n",
    "                            transform = transform)"
   ]
  },
  {
   "cell_type": "code",
   "execution_count": 4,
   "metadata": {},
   "outputs": [],
   "source": [
    "trainset = torch.utils.data.DataLoader(train, batch_size = 64, shuffle = True)\n",
    "testset = torch.utils.data.DataLoader(test, batch_size = 64, shuffle = True)"
   ]
  },
  {
   "cell_type": "code",
   "execution_count": 6,
   "metadata": {},
   "outputs": [],
   "source": [
    "import torch.nn.functional as F"
   ]
  },
  {
   "cell_type": "code",
   "execution_count": 7,
   "metadata": {},
   "outputs": [],
   "source": [
    "class Model(nn.Module):\n",
    "    def __init__(self):\n",
    "        super().__init__()\n",
    "        self.hidden1 = nn.Linear(784, 256)\n",
    "        self.hidden2 = nn.Linear(256, 128)\n",
    "        self.hidden3 = nn.Linear(128, 64)\n",
    "        self.output = nn.Linear(64, 10)\n",
    "        \n",
    "    def forward(self, x):\n",
    "        x = x.view(x.shape[0], -1)\n",
    "        \n",
    "        x = F.relu(self.hidden1(x))\n",
    "        x = F.relu(self.hidden2(x))\n",
    "        x = F.relu(self.hidden3(x))\n",
    "        x = F.log_softmax(self.output(x), dim = 1)\n",
    "        \n",
    "        return x"
   ]
  },
  {
   "cell_type": "code",
   "execution_count": 8,
   "metadata": {},
   "outputs": [],
   "source": [
    "model = Model()"
   ]
  },
  {
   "cell_type": "code",
   "execution_count": 9,
   "metadata": {},
   "outputs": [],
   "source": [
    "criterion = nn.NLLLoss()\n",
    "optimizer = optim.Adam(model.parameters(), lr = 0.003)"
   ]
  },
  {
   "cell_type": "code",
   "execution_count": 10,
   "metadata": {},
   "outputs": [
    {
     "name": "stdout",
     "output_type": "stream",
     "text": [
      "Training loss: 0.5150365045329909 \n",
      "Training loss: 0.3899355641623804 \n",
      "Training loss: 0.3539149039732749 \n",
      "Training loss: 0.3305769878139755 \n",
      "Training loss: 0.31320831656996123 \n",
      "Training loss: 0.30431586213266926 \n",
      "Training loss: 0.2894316797952916 \n",
      "Training loss: 0.2816225949889307 \n",
      "Training loss: 0.2747618791375206 \n",
      "Training loss: 0.2678845302700234 \n"
     ]
    }
   ],
   "source": [
    "epochs = 10\n",
    "\n",
    "for epoch in range(epochs):\n",
    "    train_loss = 0\n",
    "    for images, labels in trainset:\n",
    "        logits = model.forward(images)\n",
    "        loss = criterion(logits, labels)\n",
    "        \n",
    "        optimizer.zero_grad()\n",
    "        loss.backward()\n",
    "        optimizer.step()\n",
    "        \n",
    "        train_loss += loss.item()\n",
    "    print(f'Training loss: {train_loss/ len(trainset)} ')"
   ]
  },
  {
   "cell_type": "code",
   "execution_count": 11,
   "metadata": {},
   "outputs": [],
   "source": [
    "import os,sys,inspect\n",
    "current_dir = os.path.dirname(os.path.abspath(inspect.getfile(inspect.currentframe())))\n",
    "parent_dir = os.path.dirname(current_dir)\n",
    "sys.path.insert(0, parent_dir) \n",
    "import helper"
   ]
  },
  {
   "cell_type": "code",
   "execution_count": 12,
   "metadata": {},
   "outputs": [
    {
     "data": {
      "image/png": "[encoded data removed]",
      "text/plain": [
       "<Figure size 432x648 with 2 Axes>"
      ]
     },
     "metadata": {
      "needs_background": "light"
     },
     "output_type": "display_data"
    }
   ],
   "source": [
    "images, labels = next(iter(testset))\n",
    "\n",
    "img = images[1]\n",
    "\n",
    "ps = torch.exp(model(img))\n",
    "helper.view_classify(img, ps, version = 'Fashion')"
   ]
  },
  {
   "cell_type": "markdown",
   "metadata": {},
   "source": [
    "### Classifier with DROPOUT and ACCURACY"
   ]
  },
  {
   "cell_type": "code",
   "execution_count": 22,
   "metadata": {},
   "outputs": [],
   "source": [
    "class Classifier(nn.Module):\n",
    "    def __init__(self):\n",
    "        super().__init__()\n",
    "        \n",
    "        self.h1 = nn.Linear(784, 256)\n",
    "        self.h2 = nn.Linear(256, 128)\n",
    "        self.h3 = nn.Linear(128, 64)\n",
    "        self.output = nn.Linear(64, 10)\n",
    "        \n",
    "        self.dropout = nn.Dropout(p = 0.2)\n",
    "        \n",
    "    def forward(self, x):\n",
    "        x = x.view(x.shape[0], -1)\n",
    "        \n",
    "        x = self.dropout(F.relu(self.h1(x)))\n",
    "        x = self.dropout(F.relu(self.h2(x)))\n",
    "        x = self.dropout(F.relu(self.h3(x)))\n",
    "        x = F.log_softmax(self.output(x), dim = 1)\n",
    "        \n",
    "        return x"
   ]
  },
  {
   "cell_type": "code",
   "execution_count": 23,
   "metadata": {},
   "outputs": [],
   "source": [
    "clf = Classifier()\n",
    "optimizer = optim.Adam(clf.parameters(), lr = 0.003)\n",
    "criterion = nn.NLLLoss()"
   ]
  },
  {
   "cell_type": "code",
   "execution_count": 24,
   "metadata": {},
   "outputs": [
    {
     "name": "stdout",
     "output_type": "stream",
     "text": [
      "Epochs 1/30.. Training loss: 0.599.. Test loss: 0.479.. Training acc: 0.786.. Test acc: 0.828..\n",
      "Epochs 2/30.. Training loss: 0.483.. Test loss: 0.452.. Training acc: 0.830.. Test acc: 0.841..\n",
      "Epochs 3/30.. Training loss: 0.444.. Test loss: 0.413.. Training acc: 0.845.. Test acc: 0.852..\n",
      "Epochs 4/30.. Training loss: 0.434.. Test loss: 0.437.. Training acc: 0.848.. Test acc: 0.845..\n",
      "Epochs 5/30.. Training loss: 0.423.. Test loss: 0.405.. Training acc: 0.852.. Test acc: 0.855..\n",
      "Epochs 6/30.. Training loss: 0.410.. Test loss: 0.391.. Training acc: 0.856.. Test acc: 0.861..\n",
      "Epochs 7/30.. Training loss: 0.403.. Test loss: 0.410.. Training acc: 0.859.. Test acc: 0.856..\n",
      "Epochs 8/30.. Training loss: 0.403.. Test loss: 0.403.. Training acc: 0.859.. Test acc: 0.857..\n",
      "Epochs 9/30.. Training loss: 0.396.. Test loss: 0.390.. Training acc: 0.861.. Test acc: 0.867..\n",
      "Epochs 10/30.. Training loss: 0.391.. Test loss: 0.386.. Training acc: 0.862.. Test acc: 0.866..\n",
      "Epochs 11/30.. Training loss: 0.391.. Test loss: 0.387.. Training acc: 0.863.. Test acc: 0.863..\n",
      "Epochs 12/30.. Training loss: 0.388.. Test loss: 0.395.. Training acc: 0.865.. Test acc: 0.864..\n",
      "Epochs 13/30.. Training loss: 0.385.. Test loss: 0.399.. Training acc: 0.865.. Test acc: 0.862..\n",
      "Epochs 14/30.. Training loss: 0.383.. Test loss: 0.400.. Training acc: 0.866.. Test acc: 0.862..\n",
      "Epochs 15/30.. Training loss: 0.378.. Test loss: 0.387.. Training acc: 0.868.. Test acc: 0.867..\n",
      "Epochs 16/30.. Training loss: 0.376.. Test loss: 0.396.. Training acc: 0.868.. Test acc: 0.868..\n",
      "Epochs 17/30.. Training loss: 0.372.. Test loss: 0.382.. Training acc: 0.870.. Test acc: 0.865..\n",
      "Epochs 18/30.. Training loss: 0.371.. Test loss: 0.396.. Training acc: 0.870.. Test acc: 0.872..\n",
      "Epochs 19/30.. Training loss: 0.367.. Test loss: 0.377.. Training acc: 0.871.. Test acc: 0.870..\n",
      "Epochs 20/30.. Training loss: 0.360.. Test loss: 0.383.. Training acc: 0.874.. Test acc: 0.870..\n",
      "Epochs 21/30.. Training loss: 0.364.. Test loss: 0.370.. Training acc: 0.873.. Test acc: 0.868..\n",
      "Epochs 22/30.. Training loss: 0.363.. Test loss: 0.373.. Training acc: 0.873.. Test acc: 0.875..\n",
      "Epochs 23/30.. Training loss: 0.362.. Test loss: 0.366.. Training acc: 0.873.. Test acc: 0.871..\n",
      "Epochs 24/30.. Training loss: 0.353.. Test loss: 0.387.. Training acc: 0.876.. Test acc: 0.865..\n",
      "Epochs 25/30.. Training loss: 0.350.. Test loss: 0.392.. Training acc: 0.877.. Test acc: 0.868..\n",
      "Epochs 26/30.. Training loss: 0.357.. Test loss: 0.373.. Training acc: 0.876.. Test acc: 0.875..\n",
      "Epochs 27/30.. Training loss: 0.354.. Test loss: 0.397.. Training acc: 0.877.. Test acc: 0.866..\n",
      "Epochs 28/30.. Training loss: 0.351.. Test loss: 0.407.. Training acc: 0.878.. Test acc: 0.863..\n",
      "Epochs 29/30.. Training loss: 0.352.. Test loss: 0.389.. Training acc: 0.877.. Test acc: 0.874..\n",
      "Epochs 30/30.. Training loss: 0.347.. Test loss: 0.397.. Training acc: 0.879.. Test acc: 0.864..\n"
     ]
    }
   ],
   "source": [
    "epochs = 30\n",
    "training_loss, test_loss = [], []\n",
    "\n",
    "for epoch in range(epochs):\n",
    "    r_loss, r_accuracy = 0, 0\n",
    "    for images, labels in trainset:\n",
    "        output = clf(images)\n",
    "        loss = criterion(output, labels)\n",
    "        \n",
    "        optimizer.zero_grad()\n",
    "        loss.backward()\n",
    "        optimizer.step()\n",
    "        \n",
    "        r_loss += loss.item()\n",
    "        \n",
    "        ps = torch.exp(output)\n",
    "        r_top_p, r_top_class = ps.topk(1, dim = 1)\n",
    "        r_equals = r_top_class == labels.view(*r_top_class.shape)\n",
    "        r_accuracy += torch.mean(r_equals.type(torch.FloatTensor))\n",
    "        \n",
    "    t_loss, t_accuracy = 0, 0   \n",
    "    with torch.no_grad():\n",
    "        clf.eval()\n",
    "        for images, labels in testset:\n",
    "            log_ps = clf(images)\n",
    "            t_loss += criterion(log_ps, labels)\n",
    "            \n",
    "            ps = torch.exp(log_ps)\n",
    "            t_top_p, t_top_class = ps.topk(1, dim = 1)\n",
    "            t_equals = t_top_class == labels.view(*t_top_class.shape)\n",
    "            t_accuracy += torch.mean(t_equals.type(torch.FloatTensor))\n",
    "            \n",
    "    clf.train()\n",
    "    training_loss.append(r_loss/len(trainset))\n",
    "    test_loss.append(t_loss/len(testset))\n",
    "    \n",
    "    print('Epochs {}/{}..'.format(epoch+1, epochs),\n",
    "          'Training loss: {:.3f}..'.format(r_loss/len(trainset)),\n",
    "          'Test loss: {:.3f}..'.format(t_loss/len(testset)),\n",
    "          'Training acc: {:.3f}..'.format(r_accuracy/len(trainset)),\n",
    "          'Test acc: {:.3f}..'.format(t_accuracy/len(testset)))"
   ]
  },
  {
   "cell_type": "code",
   "execution_count": 19,
   "metadata": {},
   "outputs": [
    {
     "data": {
      "text/plain": [
       "<matplotlib.legend.Legend at 0x7f96c3a5e198>"
      ]
     },
     "execution_count": 19,
     "metadata": {},
     "output_type": "execute_result"
    },
    {
     "data": {
      "image/png": "[encoded data removed]",
      "text/plain": [
       "<Figure size 432x288 with 1 Axes>"
      ]
     },
     "metadata": {
      "needs_background": "light"
     },
     "output_type": "display_data"
    }
   ],
   "source": [
    "plt.plot(training_loss, label = 'Train loss')\n",
    "plt.plot(test_loss, label = 'Test loss')\n",
    "plt.legend(frameon = False)"
   ]
  },
  {
   "cell_type": "code",
   "execution_count": null,
   "metadata": {},
   "outputs": [],
   "source": []
  }
 ],
 "metadata": {
  "kernelspec": {
   "display_name": "Python 3",
   "language": "python",
   "name": "python3"
  },
  "language_info": {
   "codemirror_mode": {
    "name": "ipython",
    "version": 3
   },
   "file_extension": ".py",
   "mimetype": "text/x-python",
   "name": "python",
   "nbconvert_exporter": "python",
   "pygments_lexer": "ipython3",
   "version": "3.7.3"
  }
 },
 "nbformat": 4,
 "nbformat_minor": 4
}
